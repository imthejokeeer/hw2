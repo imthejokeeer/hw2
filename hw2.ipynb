{
 "cells": [
  {
   "cell_type": "code",
   "execution_count": 2,
   "id": "83c33547-ce01-4428-8802-c9050a95e246",
   "metadata": {},
   "outputs": [],
   "source": [
    "def number_to_words(number):\n",
    "  if 0 <= number <= 99:\n",
    "    units = [\"ноль\", \"один\", \"два\", \"три\", \"четыре\", \"пять\", \"шесть\", \"семь\", \"восемь\", \"девять\", \"десять\", \"одиннадцать\", \"двенадцать\", \"тринадцать\", \"четырнадцать\", \"пятнадцать\", \"шестнадцать\", \"семнадцать\", \"восемнадцать\", \"девятнадцать\"]\n",
    "    tens = [\"\", \"\", \"двадцать\", \"тридцать\", \"сорок\", \"пятьдесят\", \"шестьдесят\", \"семьдесят\", \"восемьдесят\", \"девяносто\"]\n",
    "\n",
    "    if number < 20:\n",
    "      return units[number] #тут ничего сложного\n",
    "    else:\n",
    "      return tens[number // 10] + (\" \" + units[number % 10] if number % 10 != 0 else \"\") #делит на 10, смотрим на получившееся число по индексу, далее делим на остаток и смотрим на число по индексу из units\n",
    "  else:\n",
    "    return \"Вы должны ввести число от 0 до 99\""
   ]
  },
  {
   "cell_type": "code",
   "execution_count": 3,
   "id": "07af969c-1196-465f-b98f-4d11be2ebf0e",
   "metadata": {},
   "outputs": [
    {
     "name": "stdin",
     "output_type": "stream",
     "text": [
      "Введите число от 0 до 99:  13\n"
     ]
    },
    {
     "name": "stdout",
     "output_type": "stream",
     "text": [
      "тринадцать\n"
     ]
    }
   ],
   "source": [
    "while True:\n",
    "  try:\n",
    "    number = int(input(\"Введите число от 0 до 99: \"))\n",
    "    print(number_to_words(number))\n",
    "    break\n",
    "  except ValueError:\n",
    "    print(\"Вы должны ввести число-_-\")\n",
    "#Продолжает выполняться до тех пор, пока пользователь не введет корректное число. Если ввод корректный, то завершает цикл с помощью break"
   ]
  }
 ],
 "metadata": {
  "kernelspec": {
   "display_name": "Python 3 (ipykernel)",
   "language": "python",
   "name": "python3"
  },
  "language_info": {
   "codemirror_mode": {
    "name": "ipython",
    "version": 3
   },
   "file_extension": ".py",
   "mimetype": "text/x-python",
   "name": "python",
   "nbconvert_exporter": "python",
   "pygments_lexer": "ipython3",
   "version": "3.12.5"
  }
 },
 "nbformat": 4,
 "nbformat_minor": 5
}
